{
 "cells": [
  {
   "cell_type": "code",
   "execution_count": 1,
   "id": "cd307b04-8690-4200-829a-f6041a5d3327",
   "metadata": {},
   "outputs": [],
   "source": [
    "# Load library\n",
    "from nltk.corpus import stopwords"
   ]
  },
  {
   "cell_type": "code",
   "execution_count": 2,
   "id": "f5f55b3d-333f-4507-a93f-3e7c9fe33e87",
   "metadata": {},
   "outputs": [],
   "source": [
    "# You will have to download the set of stop words the first time\n",
    "# import nltk\n",
    "# nltk.download('stopwords')"
   ]
  },
  {
   "cell_type": "code",
   "execution_count": 3,
   "id": "21710931-db5f-4c36-a613-f060af68fbad",
   "metadata": {},
   "outputs": [],
   "source": [
    "# Create word tokens\n",
    "tokenized_words = ['i',\n",
    "'am',\n",
    "'going',\n",
    "'to',\n",
    "'go',\n",
    "'to',\n",
    "'the',\n",
    "'store',\n",
    "'and',\n",
    "'park']"
   ]
  },
  {
   "cell_type": "code",
   "execution_count": 5,
   "id": "eb284095-7153-4570-898a-96991e4a391f",
   "metadata": {},
   "outputs": [
    {
     "name": "stderr",
     "output_type": "stream",
     "text": [
      "[nltk_data] Downloading package stopwords to\n",
      "[nltk_data]     C:\\Users\\dell\\AppData\\Roaming\\nltk_data...\n",
      "[nltk_data]   Unzipping corpora\\stopwords.zip.\n"
     ]
    },
    {
     "data": {
      "text/plain": [
       "True"
      ]
     },
     "execution_count": 5,
     "metadata": {},
     "output_type": "execute_result"
    }
   ],
   "source": [
    "import nltk\n",
    "nltk.download('stopwords')"
   ]
  },
  {
   "cell_type": "code",
   "execution_count": 6,
   "id": "1042d2c2-c7e7-487c-8884-bf8ff230267c",
   "metadata": {},
   "outputs": [
    {
     "name": "stdout",
     "output_type": "stream",
     "text": [
      "True\n"
     ]
    }
   ],
   "source": [
    "import os\n",
    "print(os.path.exists(nltk.data.find(\"corpora/stopwords\")))"
   ]
  },
  {
   "cell_type": "code",
   "execution_count": 7,
   "id": "0ffd3156-daf7-4f20-907b-620a3905e18f",
   "metadata": {},
   "outputs": [
    {
     "name": "stdout",
     "output_type": "stream",
     "text": [
      "['C:\\\\Users\\\\dell/nltk_data', 'C:\\\\Users\\\\dell\\\\miniconda3\\\\nltk_data', 'C:\\\\Users\\\\dell\\\\miniconda3\\\\share\\\\nltk_data', 'C:\\\\Users\\\\dell\\\\miniconda3\\\\lib\\\\nltk_data', 'C:\\\\Users\\\\dell\\\\AppData\\\\Roaming\\\\nltk_data', 'C:\\\\nltk_data', 'D:\\\\nltk_data', 'E:\\\\nltk_data']\n"
     ]
    }
   ],
   "source": [
    "import nltk\n",
    "print(nltk.data.path)"
   ]
  },
  {
   "cell_type": "code",
   "execution_count": 8,
   "id": "4c80f236-f12c-444d-a774-41939f5014a6",
   "metadata": {},
   "outputs": [],
   "source": [
    "import nltk\n",
    "nltk.data.path.append(\"'C:\\\\Users\\\\dell/nltk_data', 'C:\\\\Users\\\\dell\\\\miniconda3\\\\nltk_data', 'C:\\\\Users\\\\dell\\\\miniconda3\\\\share\\\\nltk_data', 'C:\\\\Users\\\\dell\\\\miniconda3\\\\lib\\\\nltk_data', 'C:\\\\Users\\\\dell\\\\AppData\\\\Roaming\\\\nltk_data', 'C:\\\\nltk_data', 'D:\\\\nltk_data', 'E:\\\\nltk_data'\")\n"
   ]
  },
  {
   "cell_type": "code",
   "execution_count": 9,
   "id": "92173d09-3f0f-4ff7-9855-ade8d13813cb",
   "metadata": {},
   "outputs": [],
   "source": [
    "# Load stop words\n",
    "stop_words = stopwords.words('english')"
   ]
  },
  {
   "cell_type": "code",
   "execution_count": 10,
   "id": "4fb92db2-497a-4ad3-ac08-fa7716e9be1f",
   "metadata": {},
   "outputs": [
    {
     "data": {
      "text/plain": [
       "['going', 'go', 'store', 'park']"
      ]
     },
     "execution_count": 10,
     "metadata": {},
     "output_type": "execute_result"
    }
   ],
   "source": [
    "# Remove stop words\n",
    "[word for word in tokenized_words if word not in stop_words]"
   ]
  },
  {
   "cell_type": "code",
   "execution_count": null,
   "id": "09346557-a5c8-42c3-93be-70c2cedc60ff",
   "metadata": {},
   "outputs": [],
   "source": []
  }
 ],
 "metadata": {
  "kernelspec": {
   "display_name": "Python 3 (ipykernel)",
   "language": "python",
   "name": "python3"
  },
  "language_info": {
   "codemirror_mode": {
    "name": "ipython",
    "version": 3
   },
   "file_extension": ".py",
   "mimetype": "text/x-python",
   "name": "python",
   "nbconvert_exporter": "python",
   "pygments_lexer": "ipython3",
   "version": "3.12.3"
  }
 },
 "nbformat": 4,
 "nbformat_minor": 5
}
